{
 "cells": [
  {
   "cell_type": "markdown",
   "id": "718b9f37",
   "metadata": {},
   "source": [
    "# Hello World in OpenMP\n",
    "\n",
    "### Description\n",
    "\n",
    "A very basic introduction to OpenMP. The demo walks through a Hello World program parallelized with\n",
    "the `omp parallel` directive and discusses the importance and significance of thread count\n",
    "using a matrix-scalar multiplication example. \n",
    "\n",
    "Covers the following directives and API\n",
    "\n",
    "  * OpenMP directives: `parallel` and `parallel for`\n",
    "  * OpenMP API: `omp_set_num_threads()`, `omp_get_thread_num()`\n",
    "  \n",
    "### Outline\n",
    "\n",
    "   * [Installing OpenMP](#install)\n",
    "   * [Compiling and Running an OpenMP Program](#compile)\n",
    "   * [OpenMP Compiler Directives](#directives)\n",
    "   * [OpenMP Runtime API](#api)\n",
    "   * [Performance Evaluation](#timing)\n",
    "   * [Thread Count ans Scalability](#thread_count)\n",
    "   \n",
    "### <a name=\"install\"></a> Installing OpenMP\n",
    "\n",
    "OpenMP does not need to be installed separately. It is packaged with the compiler on your\n",
    "system. Check the GCC version to make sure the compiler supports OpenMP"
   ]
  },
  {
   "cell_type": "code",
   "execution_count": null,
   "id": "14628192",
   "metadata": {},
   "outputs": [],
   "source": [
    "(knuth)% gcc --version\n",
    "gcc (Ubuntu 7.5.0-3ubuntu1~18.04) 7.5.0\n",
    "Copyright (C) 2017 Free Software Foundation, Inc.\n",
    "This is free software; see the source for copying conditions.  There is NO\n",
    "warranty; not even for MERCHANTABILITY or FITNESS FOR A PARTICULAR PURPOSE."
   ]
  },
  {
   "cell_type": "markdown",
   "id": "342414d7",
   "metadata": {},
   "source": [
    "OpenMP has been supported since GCC 4.2, which implements OpenMP specification 2.5. To\n",
    "ensure support for newer OpenMP specifications we need to have a recent version of GCC\n",
    "installed. In particular, we want at least GCC 6 which provides support for OpenMP 4.5\n",
    "which added significant enhancements over earlier versions. \n",
    "\n",
    "### <a name=\"compile\"></a>Compiling and Running an OpenMP Program\n",
    "\n",
    "To compile an OpenMP program, all that is needed is to pass the appropriate compiler flag. For GCC\n",
    "(and Clang) this flag is `-fopenmp`. Consider the following Hello World C program."
   ]
  },
  {
   "cell_type": "code",
   "execution_count": null,
   "id": "bbc48bd5",
   "metadata": {
    "attributes": {
     "classes": [
      "C"
     ],
     "id": ""
    }
   },
   "outputs": [],
   "source": [
    "#include<stdio.h>\n",
    "\n",
    "int main() {\n",
    "\n",
    "  printf(\"Hello World\\n\");\n",
    "  printf(\"Goodbye World!\\n\");\n",
    "  return 0;\n",
    "}"
   ]
  },
  {
   "cell_type": "markdown",
   "id": "a613a62e",
   "metadata": {},
   "source": [
    "The above can be compiled with OpenMP with the following"
   ]
  },
  {
   "cell_type": "code",
   "execution_count": null,
   "id": "81fc1067",
   "metadata": {},
   "outputs": [],
   "source": [
    "(knuth)% gcc -o hello -fopenmp hello.c"
   ]
  },
  {
   "cell_type": "markdown",
   "id": "6580bebf",
   "metadata": {},
   "source": [
    "We can run the resulting executable in the same manner as we would a regular sequential program"
   ]
  },
  {
   "cell_type": "code",
   "execution_count": null,
   "id": "89cd01c3",
   "metadata": {},
   "outputs": [],
   "source": [
    "(knuth)% ./hello"
   ]
  },
  {
   "cell_type": "markdown",
   "id": "bba50f4c",
   "metadata": {},
   "source": [
    "Of course, we have not added any parallelism in the code yet. So the result is uninteresting. But\n",
    "even after adding parallelism, the process of compiling and running OpenMP programs will remain the\n",
    "same. \n",
    "\n",
    "\n",
    "### <a name=\"directives\"></a>OpenMP Compiler Directives\n",
    "\n",
    "To parallelize with OpenMP we need to add directives or pragmas in the source code. OpenMP supports\n",
    "a wide [range of\n",
    "pragmas](https://www.openmp.org/wp-content/uploads/OpenMP-4.5-1115-CPP-web.pdf). The most simplest\n",
    "of these is the `parallel` pragma. Let us insert the pragma in our Hello World code."
   ]
  },
  {
   "cell_type": "code",
   "execution_count": null,
   "id": "da1e9f71",
   "metadata": {
    "attributes": {
     "classes": [
      "C"
     ],
     "id": ""
    }
   },
   "outputs": [],
   "source": [
    "#pragma omp parallel {\t\t\n",
    "  printf(\"Hello World!\\n\");\n",
    "  printf(\"Goodbye World!\\n\");\n",
    "}"
   ]
  },
  {
   "cell_type": "markdown",
   "id": "0770ba9f",
   "metadata": {},
   "source": [
    "All pragmas in OpenMP begin with `#pragma omp`. This is usually followed by a keyword which\n",
    "describes the action to be performed. The action can be followed by a sequence of _clauses_ to\n",
    "influence the prescribed action. For now, we will just look at the `parallel` pragma without any\n",
    "clauses. A `pragma` is usually followed by a pair curly braces to mark the block of code on which\n",
    "the action is to be performed. With the braces, the pragma will apply to the next statement only,\n",
    "which is a behavior, we rarely want. \n",
    "\n",
    "We can now attempt to compile the OpenMP code using the `fopenmp` flag."
   ]
  },
  {
   "cell_type": "code",
   "execution_count": null,
   "id": "4586c5d7",
   "metadata": {},
   "outputs": [],
   "source": [
    "(knuth)% gcc -o hello -fopenmp hello0.c \n",
    "hello0.c: In function ‘main’:\n",
    "hello0.c:7:24: error: expected ‘#pragma omp’ clause before ‘{’ token\n",
    "#pragma omp parallel {\n",
    "                    ^\n",
    "hello0.c: At top level:\n",
    "hello0.c:11:3: error: expected identifier or ‘(’ before ‘return’\n",
    "return 0;\n",
    "^~~~~~\n",
    "hello0.c:12:1: error: expected identifier or ‘(’ before ‘}’ token\n",
    "}\n",
    "^\n"
   ]
  },
  {
   "cell_type": "markdown",
   "id": "eb19976d",
   "metadata": {},
   "source": [
    "_What happened?_ \n",
    "\n",
    "The compiler error message is a little cryptic. The problem here is that the \n",
    "opening `{` must be on a new line. If you prefer the style where the opening brace is placed on the\n",
    "same line as the statement preceding a code block then it may take a little getting used to. The\n",
    "above code can be fixed by simply moving the opening braces to the next line."
   ]
  },
  {
   "cell_type": "code",
   "execution_count": null,
   "id": "5c61187e",
   "metadata": {
    "attributes": {
     "classes": [
      "C"
     ],
     "id": ""
    }
   },
   "outputs": [],
   "source": [
    "#pragma omp parallel \n",
    "{\t\t\n",
    "  printf(\"Hello World!\\n\");\n",
    "  printf(\"Goodbye World!\\n\");\n",
    "}"
   ]
  },
  {
   "cell_type": "markdown",
   "id": "c748f2d5",
   "metadata": {},
   "source": [
    "We can now build the code successfully."
   ]
  },
  {
   "cell_type": "code",
   "execution_count": null,
   "id": "27158ae2",
   "metadata": {},
   "outputs": [],
   "source": [
    "(knuth)% gcc -o hello -fopenmp hello.c"
   ]
  },
  {
   "cell_type": "markdown",
   "id": "fc6f7217",
   "metadata": {},
   "source": [
    "_What do we expect the output to be?_\n",
    "\n",
    "Let's run the program"
   ]
  },
  {
   "cell_type": "code",
   "execution_count": null,
   "id": "2c32b306",
   "metadata": {},
   "outputs": [],
   "source": [
    "(knuth)% ./hello "
   ]
  },
  {
   "cell_type": "markdown",
   "id": "a07dfab2",
   "metadata": {},
   "source": [
    "The behavior may not be exactly what you expected. Here's how the `parallel` directive works. \n",
    "\n",
    "  * the pragma marks a _parallel_ region in the program\n",
    "  * at runtime OpenMP creates _n_ threads where _n_ is determined from the environment\n",
    "  * each thread executes each statement in the block in parallel (i.e., an instance of block is\n",
    "    executed _n_ times) \n",
    "\n",
    "_Can we find out how many threads OpenMP created for the Hello World program?_\n",
    "\n",
    "### <a name=\"api\"></a>OpenMP Runtime Library Routines \n",
    "\n",
    "We can use `wc` to count the number of lines in the output."
   ]
  },
  {
   "cell_type": "code",
   "execution_count": null,
   "id": "b79c4b51",
   "metadata": {},
   "outputs": [],
   "source": [
    "(knuth)% ./hello | wc -l \n",
    "\t24\n"
   ]
  },
  {
   "cell_type": "markdown",
   "id": "8ec6e963",
   "metadata": {},
   "source": [
    "_Why did OpenMP decide to create 12 threads?_ \n",
    "\n",
    "Generally, OpenMP will try to match the number threads to the available processing cores. Let's\n",
    "check the number of available cores in our system"
   ]
  },
  {
   "cell_type": "code",
   "execution_count": null,
   "id": "4a3c1d6c",
   "metadata": {},
   "outputs": [],
   "source": [
    "(knuth)% lscpu | head -4\n",
    "Architecture:        x86_64\n",
    "CPU op-mode(s):      32-bit, 64-bit\n",
    "Byte Order:          Little Endian\n",
    "CPU(s):              12"
   ]
  },
  {
   "cell_type": "markdown",
   "id": "b0a783af",
   "metadata": {},
   "source": [
    "We can modify this default behavior in several ways. One way to do this is via a call to [OpenMPs\n",
    "runtime library](https://gcc.gnu.org/onlinedocs/libgomp/Runtime-Library-Routines.html). OpenMP\n",
    "supports a large collection of runtime routines. To use these routines, we need include the OpenMP\n",
    "header file."
   ]
  },
  {
   "cell_type": "code",
   "execution_count": null,
   "id": "227699aa",
   "metadata": {},
   "outputs": [],
   "source": [
    "#include<omp.h>"
   ]
  },
  {
   "cell_type": "markdown",
   "id": "f6a735f5",
   "metadata": {},
   "source": [
    "We can then tell OpenMP to use a specific number of threads using the appropriately named function\n",
    "`omp_set_num_threads()`"
   ]
  },
  {
   "cell_type": "code",
   "execution_count": null,
   "id": "a79a6029",
   "metadata": {},
   "outputs": [],
   "source": [
    "omp_set_num_threads(4)"
   ]
  },
  {
   "cell_type": "markdown",
   "id": "c9513b73",
   "metadata": {},
   "source": [
    "Each thread created by OpenMP has an ID. This is different from the thread IDs used by the OS. We\n",
    "can obtain the thread ID using the `omp_get_thread_num()` function."
   ]
  },
  {
   "cell_type": "code",
   "execution_count": null,
   "id": "be6fb543",
   "metadata": {},
   "outputs": [],
   "source": [
    "int ID = omp_get_thread_num();\n",
    "printf(\"Hello World from %d!\\n\", ID);\n",
    "printf(\"Goodbye World from %d!\\n\", ID);"
   ]
  },
  {
   "cell_type": "markdown",
   "id": "67f4a20f",
   "metadata": {},
   "source": [
    "Let's compile and run the program again."
   ]
  },
  {
   "cell_type": "code",
   "execution_count": null,
   "id": "67f66040",
   "metadata": {},
   "outputs": [],
   "source": [
    "(knuth)% gcc -o hello -fopenmp hello1.c \n",
    "(knuth)% ./hello \n",
    "Hello World from 2!\n",
    "Goodbye World from 2!\n",
    "Hello World from 0!\n",
    "Goodbye World from 0!\n",
    "Hello World from 1!\n",
    "Goodbye World from 1!\n",
    "Hello World from 3!\n",
    "Goodbye World from 3!"
   ]
  },
  {
   "cell_type": "markdown",
   "id": "921ba4aa",
   "metadata": {},
   "source": [
    "We can see that the output from the different threads is interleaved indicating the concurrency (and\n",
    "non-determinism) of execution. \n",
    "\n",
    "### <a name=\"timing\"></a>Performance Evaluation\n",
    "We can measure the execution time of a parallel OpenMP program just like we would a sequential\n",
    "program. Let's time the sequential version first. Instead of hard coding the number of threads, we can\n",
    "pass the value to the program as a command-line argument."
   ]
  },
  {
   "cell_type": "code",
   "execution_count": null,
   "id": "22823729",
   "metadata": {
    "attributes": {
     "classes": [
      "C"
     ],
     "id": ""
    }
   },
   "outputs": [],
   "source": [
    "#include<stdio.h>\n",
    "#include<stdlib.h>\n",
    "#include<omp.h>\n",
    "\n",
    "int main(int argc, char* argv[]) {\n",
    "\n",
    "  int num_threads;\n",
    "  if (argc <= 1)\n",
    "    num_threads = 1;\n",
    "  else\n",
    "    num_threads = atoi(argv[1]);\n",
    "\n",
    "  omp_set_num_threads(num_threads);"
   ]
  },
  {
   "cell_type": "markdown",
   "id": "349c2af3",
   "metadata": {},
   "source": [
    "Now we can run the sequential version and time it as follows"
   ]
  },
  {
   "cell_type": "code",
   "execution_count": null,
   "id": "93baaa31",
   "metadata": {},
   "outputs": [],
   "source": [
    "(knuth)% time ./hello 1\n",
    "Hello World from 0!\n",
    "Goodbye World from 0!\n",
    "\n",
    "real\t0m0.004s\n",
    "user\t0m0.001s\n",
    "sys\t    0m0.004s"
   ]
  },
  {
   "cell_type": "markdown",
   "id": "6b5a3228",
   "metadata": {},
   "source": [
    "`time` does not give us good enough resolution for this tiny program. We can use `perf` to get\n",
    "*somewhat* better measurements."
   ]
  },
  {
   "cell_type": "code",
   "execution_count": null,
   "id": "4e09b3b0",
   "metadata": {},
   "outputs": [],
   "source": [
    "(knuth)% perf stat ./hello 1\n",
    "    Hello World from 0!\n",
    "    Goodbye World from 0!"
   ]
  },
  {
   "cell_type": "markdown",
   "id": "5d902be4",
   "metadata": {},
   "source": [
    "Performance counter stats for './hello 1':"
   ]
  },
  {
   "cell_type": "code",
   "execution_count": null,
   "id": "17099a45",
   "metadata": {},
   "outputs": [],
   "source": [
    "2.240399      task-clock (msec)         #    0.864 CPUs utilized          \n",
    "       0      context-switches          #    0.000 K/sec                  \n",
    "       0      cpu-migrations            #    0.000 K/sec                  \n",
    "     118      page-faults               #    0.053 M/sec                  \n",
    "         3,788,857      cycles                    #    1.691 GHz                    \n",
    "         2,289,566      stalled-cycles-frontend   #   60.43% frontend cycles idle   \n",
    "         1,618,024      stalled-cycles-backend    #   42.70% backend cycles idle    \n",
    "         3,607,090      instructions              #    0.95  insn per cycle         \n",
    "                                        #    0.63  stalled cycles per insn\n",
    " 628,934      branches                  #  280.724 M/sec                  \n",
    "  19,700      branch-misses             #    3.13% of all branches        "
   ]
  },
  {
   "cell_type": "markdown",
   "id": "fe8c5b19",
   "metadata": {},
   "source": [
    "0.002592641 seconds time elapsed\n",
    "\n",
    "Now, let's run the code with 2 threads."
   ]
  },
  {
   "cell_type": "code",
   "execution_count": null,
   "id": "d3aa854a",
   "metadata": {},
   "outputs": [],
   "source": [
    "(knuth)% perf stat ./hello 2\n",
    "Hello World from 0!\n",
    "Goodbye World from 0!\n",
    "Hello World from 1!\n",
    "Goodbye World from 1!\n",
    "\n",
    "Performance counter stats for './hello 2':\n",
    "\n",
    "      2.384980      task-clock (msec)         #    0.912 CPUs utilized          \n",
    "             1      context-switches          #    0.419 K/sec                  \n",
    "             0      cpu-migrations            #    0.000 K/sec                  \n",
    "           121      page-faults               #    0.051 M/sec                  \n",
    "     4,249,512      cycles                    #    1.782 GHz                    \n",
    "     2,662,123      stalled-cycles-frontend   #   62.65% frontend cycles idle   \n",
    "     1,932,917      stalled-cycles-backend    #   45.49% backend cycles idle    \n",
    "     3,694,681      instructions              #    0.87  insn per cycle         \n",
    "                                              #    0.72  stalled cycles per insn\n",
    "       654,539      branches                  #  274.442 M/sec                  \n",
    "        21,580      branch-misses             #    3.30% of all branches        \n",
    "\n",
    "   0.002616198 seconds time elapsed\n"
   ]
  },
  {
   "cell_type": "markdown",
   "id": "d75b1fef",
   "metadata": {},
   "source": [
    "### <a name=\"thread_count\"></a>Thread Count and Scalability \n",
    "\n",
    "_How much performance improvement do we get by running this code in parallel?_\n",
    "\n",
    "This very simple code is not useful for doing any kind of performance evaluation. Let's look at a code\n",
    "that is slightly more complex."
   ]
  },
  {
   "cell_type": "code",
   "execution_count": null,
   "id": "471a5530",
   "metadata": {
    "attributes": {
     "classes": [
      "C"
     ],
     "id": ""
    }
   },
   "outputs": [],
   "source": [
    "for p(j = 0; j < M; j++)\n",
    "  for (i = 0; i < M; i++)\n",
    "    b[i][j] = i + j;\n",
    "\n",
    "t0 = mysecond();\n",
    "#pragma omp parallel for\n",
    "  for (int k = 0; k < REPS; k++) {\n",
    "    for (int j = 0; j < M; j++)\n",
    "      for (int i = 0; i < M; i++)\n",
    "        a[i][j] = b[i][j] * 17;\n",
    "  }\n",
    "\n",
    "t0 = (mysecond() - t0) * 1.e3;\n",
    "printf(\"parallel loop = %3.2f ms\\n\", t0);"
   ]
  },
  {
   "cell_type": "markdown",
   "id": "79e887e2",
   "metadata": {},
   "source": [
    "The above program scales the values in an array by a constant factor. The loop is parallelized with the\n",
    "`parallel for` directive. This directive is an extension of the `parallel` directive and is applied\n",
    "exclusively to the *next* for loop. The `parallel for` directive will equally divide the iterations\n",
    "of the loop and run them in parallel. The number of threads to be created is passed via a command-line\n",
    "argument. There's a built-in timer to record the execution time of the parallel loop. \n",
    "\n",
    "Let's build and execute the sequential version of the code."
   ]
  },
  {
   "cell_type": "code",
   "execution_count": null,
   "id": "c7f47982",
   "metadata": {},
   "outputs": [],
   "source": [
    "(knuth)% g++ -o scale scale.c -fopenmp\n",
    "(knuth)% ./scale 1000 1\n",
    "result = 578.00\n",
    "parallel loop = 1936.35 ms"
   ]
  },
  {
   "cell_type": "markdown",
   "id": "d6b44b0f",
   "metadata": {},
   "source": [
    "Let's run it with 2 threads."
   ]
  },
  {
   "cell_type": "code",
   "execution_count": null,
   "id": "5a7408f4",
   "metadata": {},
   "outputs": [],
   "source": [
    "(knuth)% ./scale 1000 2\n",
    "result = 578.00\n",
    "parallel loop = 1251.09 ms"
   ]
  },
  {
   "cell_type": "markdown",
   "id": "1ef2d79a",
   "metadata": {},
   "source": [
    "Note, even with this very simple code we are not able to double the performance with 2 threads.  Now\n",
    "let's run it with 12 threads which is what OpenMP picked for this system."
   ]
  },
  {
   "cell_type": "code",
   "execution_count": null,
   "id": "e90074f8",
   "metadata": {},
   "outputs": [],
   "source": [
    "(knuth)% ./scale 1000 12\n",
    "result = 578.00\n",
    "parallel loop = 419.77 ms\n",
    "(knuth)% "
   ]
  },
  {
   "cell_type": "markdown",
   "id": "bdb5f363",
   "metadata": {},
   "source": [
    "_What if we kept on increasing the number of threads, do we expect more parallelism?_"
   ]
  },
  {
   "cell_type": "code",
   "execution_count": null,
   "id": "2afc2d92",
   "metadata": {},
   "outputs": [],
   "source": [
    "(knuth)% ./scale 1000 32\n",
    "result = 578.00\n",
    "parallel loop = 373.80 ms\n",
    "(knuth)% ./scale 1000 64\n",
    "result = 578.00\n",
    "parallel loop = 374.94 ms\n",
    "(knuth)% ./scale 1000 128\n",
    "result = 578.00\n",
    "parallel loop = 375.71 ms"
   ]
  },
  {
   "cell_type": "markdown",
   "id": "e0279d1f",
   "metadata": {},
   "source": [
    "_Does this performance pattern reminds us of something?_\n",
    "\n",
    "This program becomes compute-bound when the number of threads is substantially higher than the available\n",
    "processing cores. The ideal number of threads for a given program depends on many factors. Often some\n",
    "fine-tuning is necessary. For instance, let's run the `scale` with 16 threads."
   ]
  },
  {
   "cell_type": "code",
   "execution_count": null,
   "id": "04f58165",
   "metadata": {},
   "outputs": [],
   "source": [
    "(knuth)% ./scale 1000 16\n",
    "result = 578.00\n",
    "parallel loop = 416.82 ms"
   ]
  },
  {
   "cell_type": "markdown",
   "id": "de369714",
   "metadata": {},
   "source": [
    "This performance is worse than the performance achieved with 12 threads and 32 threads."
   ]
  }
 ],
 "metadata": {},
 "nbformat": 4,
 "nbformat_minor": 5
}
